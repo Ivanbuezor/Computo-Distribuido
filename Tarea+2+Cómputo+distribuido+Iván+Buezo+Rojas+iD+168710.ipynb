{
 "cells": [
  {
   "cell_type": "markdown",
   "metadata": {},
   "source": [
    "# Tarea 2 Cómputo distribuido Iván Buezo Rojas ID 168710"
   ]
  },
  {
   "cell_type": "markdown",
   "metadata": {},
   "source": [
    "## Cortes consistentes"
   ]
  },
  {
   "cell_type": "markdown",
   "metadata": {},
   "source": [
    "Con los relojes vectoriales, el timestamp de eventos es un vector. Cada proceso conoce su posicion en el vector."
   ]
  },
  {
   "cell_type": "markdown",
   "metadata": {},
   "source": [
    "![Relojes vectoriales](https://www.cs.rutgers.edu/~pxk/rutgers/notes/clocks/images/clocks-vector.png)"
   ]
  },
  {
   "cell_type": "markdown",
   "metadata": {},
   "source": [
    "Si hacemos un corte en la imagen despues de los eventos c,j y l pero antes de los eventos d y m tenemos los relojes vectoriales (3,1,0),(2,2,0) y (0,0,1). Podemos ver que este corte es consistente, no hay eventos que hayan pasado y no esten en el corte. \n",
    "Sinembargo si hacemos el corte despues de los eventos f,j y l pero antes de los eventos g k y m tenemos los relojes vectoriales (5,1,2),(2,2,0),(0,0,1) podemos ver que el corte es inconsistente, ya que el evento f depende del evento m, pero el evento m no ah pasado en el corte."
   ]
  },
  {
   "cell_type": "markdown",
   "metadata": {},
   "source": [
    "Podemos escribir una función que nos permita saber si un corte es consistente o no con los relojes vectoriales de los eventos en la frontera del corte como input"
   ]
  },
  {
   "cell_type": "code",
   "execution_count": 78,
   "metadata": {},
   "outputs": [],
   "source": [
    "import numpy as np\n"
   ]
  },
  {
   "cell_type": "code",
   "execution_count": 98,
   "metadata": {},
   "outputs": [],
   "source": [
    "def corte(x):\n",
    "    v=np.transpose(x)\n",
    "    y=np.diag(v) #diagonal de la matriz que contiene los relojes\n",
    "    lon = len(v[1]) #tamaño de los vectores\n",
    "    value=True\n",
    "    count= 0\n",
    "    while (value==True and count < lon):\n",
    "        a = np.array(v[count] <= y[count]) #Comparamos los valores de los relojes\n",
    "        if ((a==True).all() != True): #Si detecta inconsistencias\n",
    "            message=\"el corte no es consistente\"\n",
    "            value=False\n",
    "        else:\n",
    "                    message=\"el corte es consistente\"\n",
    "                    value=True\n",
    "                    count = count+1\n",
    "    return(message) #,value)"
   ]
  },
  {
   "cell_type": "code",
   "execution_count": 99,
   "metadata": {},
   "outputs": [
    {
     "data": {
      "text/plain": [
       "'el corte es consistente'"
      ]
     },
     "execution_count": 99,
     "metadata": {},
     "output_type": "execute_result"
    }
   ],
   "source": [
    "relojes = np.array([(3,1),(0,2)])\n",
    "corte(relojes)"
   ]
  },
  {
   "cell_type": "code",
   "execution_count": 100,
   "metadata": {},
   "outputs": [
    {
     "data": {
      "text/plain": [
       "'el corte no es consistente'"
      ]
     },
     "execution_count": 100,
     "metadata": {},
     "output_type": "execute_result"
    }
   ],
   "source": [
    "relojes = np.array([(6,3),(0,2)])\n",
    "corte(relojes)"
   ]
  },
  {
   "cell_type": "code",
   "execution_count": 101,
   "metadata": {},
   "outputs": [
    {
     "data": {
      "text/plain": [
       "'el corte es consistente'"
      ]
     },
     "execution_count": 101,
     "metadata": {},
     "output_type": "execute_result"
    }
   ],
   "source": [
    "relojes = np.array([(3,1,0),(2,2,0),(0,0,1)])\n",
    "corte(relojes)"
   ]
  },
  {
   "cell_type": "code",
   "execution_count": 102,
   "metadata": {},
   "outputs": [
    {
     "data": {
      "text/plain": [
       "'el corte no es consistente'"
      ]
     },
     "execution_count": 102,
     "metadata": {},
     "output_type": "execute_result"
    }
   ],
   "source": [
    "relojes = np.array([(5,1,2),(2,2,0),(0,0,1)])\n",
    "corte(relojes)"
   ]
  },
  {
   "cell_type": "code",
   "execution_count": null,
   "metadata": {
    "collapsed": true
   },
   "outputs": [],
   "source": []
  },
  {
   "cell_type": "code",
   "execution_count": null,
   "metadata": {
    "collapsed": true
   },
   "outputs": [],
   "source": []
  }
 ],
 "metadata": {
  "kernelspec": {
   "display_name": "Python 3",
   "language": "python",
   "name": "python3"
  },
  "language_info": {
   "codemirror_mode": {
    "name": "ipython",
    "version": 3
   },
   "file_extension": ".py",
   "mimetype": "text/x-python",
   "name": "python",
   "nbconvert_exporter": "python",
   "pygments_lexer": "ipython3",
   "version": "3.6.4"
  }
 },
 "nbformat": 4,
 "nbformat_minor": 2
}
